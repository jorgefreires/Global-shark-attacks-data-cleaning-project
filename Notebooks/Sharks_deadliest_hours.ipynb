{
 "cells": [
  {
   "cell_type": "markdown",
   "id": "8d19544d",
   "metadata": {},
   "source": [
    "## Hipótesis\n",
    "\n",
    "En este notebook se van a cruzar las columnas Time y Fatal (Y/N) para probar la hipótesis de que los ataques de tiburón que se producen durante la noche tienen un mayor índice de letalidad."
   ]
  },
  {
   "cell_type": "code",
   "execution_count": 1,
   "id": "e7d4884e",
   "metadata": {},
   "outputs": [],
   "source": [
    "# librerias y configuración\n",
    "\n",
    "import pandas as pd\n",
    "import numpy as np\n",
    "import pylab as plt\n",
    "import seaborn as sns\n",
    "\n",
    "%matplotlib inline\n",
    "\n",
    "pd.set_option('display.max_columns', None)\n",
    "pd.set_option('display.max_rows', None)\n",
    "\n",
    "import warnings\n",
    "warnings.filterwarnings('ignore')"
   ]
  },
  {
   "cell_type": "code",
   "execution_count": 2,
   "id": "9dbda0b7",
   "metadata": {},
   "outputs": [],
   "source": [
    "df = pd.read_csv('../data/attacks_clean.csv', encoding= \"ISO-8859-1\")"
   ]
  },
  {
   "cell_type": "code",
   "execution_count": 3,
   "id": "168b4769",
   "metadata": {},
   "outputs": [
    {
     "name": "stdout",
     "output_type": "stream",
     "text": [
      "<class 'pandas.core.frame.DataFrame'>\n",
      "RangeIndex: 6299 entries, 0 to 6298\n",
      "Data columns (total 24 columns):\n",
      " #   Column                  Non-Null Count  Dtype \n",
      "---  ------                  --------------  ----- \n",
      " 0   Case Number             6299 non-null   int64 \n",
      " 1   Date                    6299 non-null   object\n",
      " 2   Year                    6297 non-null   object\n",
      " 3   Type                    6299 non-null   object\n",
      " 4   Country                 6299 non-null   object\n",
      " 5   Area                    6299 non-null   object\n",
      " 6   Location                6299 non-null   object\n",
      " 7   Activity                6299 non-null   object\n",
      " 8   Name                    6299 non-null   object\n",
      " 9   Sex                     6299 non-null   object\n",
      " 10  Age                     6299 non-null   object\n",
      " 11  Injury                  6299 non-null   object\n",
      " 12  Fatal (Y/N)             6299 non-null   object\n",
      " 13  Time                    6299 non-null   object\n",
      " 14  Species                 6299 non-null   object\n",
      " 15  Investigator or Source  6299 non-null   object\n",
      " 16  pdf                     6299 non-null   object\n",
      " 17  href formula            6299 non-null   object\n",
      " 18  href                    6299 non-null   object\n",
      " 19  Case Number.1           6299 non-null   int64 \n",
      " 20  Case Number.2           6299 non-null   int64 \n",
      " 21  original order          6299 non-null   int64 \n",
      " 22  Unnamed: 22             6299 non-null   object\n",
      " 23  Unnamed: 23             6299 non-null   object\n",
      "dtypes: int64(4), object(20)\n",
      "memory usage: 1.2+ MB\n"
     ]
    }
   ],
   "source": [
    "df.info()"
   ]
  },
  {
   "cell_type": "code",
   "execution_count": 4,
   "id": "0a4a7e64",
   "metadata": {},
   "outputs": [],
   "source": [
    "# Se borran el resto de las columnas excepto Fatal (Y/N)\n",
    "\n",
    "df.drop(['Case Number', 'Date', 'Year', 'Type', 'Country', 'Area', 'Location', 'Activity', 'Name', 'Sex', 'Age',\n",
    "         'Injury', 'Species', 'Investigator or Source', 'pdf', 'href formula', 'href', 'Case Number.1',\n",
    "         'Case Number.2', 'original order', 'Unnamed: 22', 'Unnamed: 23'], axis=1, inplace=True)\n",
    "\n",
    "# Se borran todas las filas con unknowns\n",
    "\n",
    "df = df[~((df['Time'] == 'unknown' ) | (df['Fatal (Y/N)'] == 'unknown'))]\n",
    "\n",
    "# Se cambian los tipos de datos para la columna  Date, guardandose solo las horas\n",
    "\n",
    "df['Time'] = df['Time'].replace(':\\d+', '', regex=True)\n",
    "\n",
    "df['Time'] = df['Time'].astype('int')"
   ]
  },
  {
   "cell_type": "code",
   "execution_count": 5,
   "id": "b9ab7647",
   "metadata": {},
   "outputs": [
    {
     "name": "stdout",
     "output_type": "stream",
     "text": [
      "<class 'pandas.core.frame.DataFrame'>\n",
      "Int64Index: 2262 entries, 0 to 6198\n",
      "Data columns (total 2 columns):\n",
      " #   Column       Non-Null Count  Dtype \n",
      "---  ------       --------------  ----- \n",
      " 0   Fatal (Y/N)  2262 non-null   object\n",
      " 1   Time         2262 non-null   int64 \n",
      "dtypes: int64(1), object(1)\n",
      "memory usage: 53.0+ KB\n"
     ]
    }
   ],
   "source": [
    "df.info()"
   ]
  },
  {
   "cell_type": "code",
   "execution_count": 6,
   "id": "d3e97e16",
   "metadata": {},
   "outputs": [
    {
     "data": {
      "text/plain": [
       "Time  Fatal (Y/N)\n",
       "21    Y              60.000000\n",
       "2     Y              60.000000\n",
       "4     Y              50.000000\n",
       "1     Y              40.000000\n",
       "3     Y              40.000000\n",
       "5     Y              27.272727\n",
       "9     Y              21.186441\n",
       "15    Y              20.940171\n",
       "22    Y              20.000000\n",
       "6     Y              18.918919\n",
       "10    Y              18.128655\n",
       "16    Y              17.543860\n",
       "14    Y              16.956522\n",
       "12    Y              16.410256\n",
       "17    Y              15.706806\n",
       "13    Y              14.795918\n",
       "11    Y              14.522822\n",
       "20    Y              13.793103\n",
       "8     Y              13.333333\n",
       "18    Y              12.800000\n",
       "23    Y              12.500000\n",
       "19    Y              11.111111\n",
       "7     Y              10.126582\n",
       "dtype: float64"
      ]
     },
     "execution_count": 6,
     "metadata": {},
     "output_type": "execute_result"
    },
    {
     "data": {
      "image/png": "[encoded data removed]",
      "text/plain": [
       "<Figure size 1200x600 with 1 Axes>"
      ]
     },
     "metadata": {},
     "output_type": "display_data"
    }
   ],
   "source": [
    "# Se quiere saber el porcentaje letalidad de los ataques según la hora en que se producen\n",
    "\n",
    "# Se crea una serie llamada porcentajes, la cuál cruza los valores de Time con los de Fatal (Y/N)\n",
    "    \n",
    "porcentajes = df.groupby(df['Time']).value_counts() / df.groupby(df['Time']).size() * 100\n",
    "\n",
    "# Se eliman los porcentajes de no letal, pues solo nos interesan los porcentajes de letalidad\n",
    "\n",
    "porcentajes.drop(labels='N', level=1, inplace=True)\n",
    "\n",
    "# Se representan los porcentajes de letalidad en un histograma\n",
    "\n",
    "plt.figure(figsize=(12, 6))\n",
    "\n",
    "porcentajes.sort_values(ascending = False).plot.bar();\n",
    "\n",
    "porcentajes.sort_values(ascending = False) # Se obtienen los porcentajes de letalidad ordenados"
   ]
  },
  {
   "cell_type": "code",
   "execution_count": 7,
   "id": "1e219452",
   "metadata": {},
   "outputs": [
    {
     "name": "stdout",
     "output_type": "stream",
     "text": [
      "Porcentaje nocturno: Fatal (Y/N)\n",
      "Y    33.586456\n",
      "dtype: float64\n",
      "Porcentaje diurno:Fatal (Y/N)\n",
      "Y    18.490372\n",
      "dtype: float64\n"
     ]
    },
    {
     "data": {
      "image/png": "[encoded data removed]",
      "text/plain": [
       "<Figure size 640x480 with 1 Axes>"
      ]
     },
     "metadata": {},
     "output_type": "display_data"
    }
   ],
   "source": [
    "'''Para probar nuestra hipótesis, vamos a considerar horario nocturno entre las diez de la noche y las seis de\n",
    "la mañana'''\n",
    "\n",
    "porcentaje_nocturno = (porcentajes[22] + porcentajes[23] + porcentajes[1] + porcentajes[2] + porcentajes[3] + porcentajes[4] + porcentajes [5] + porcentajes[6]) / 8\n",
    "\n",
    "porcentaje_diurno = (porcentajes[7] + porcentajes[8] + porcentajes[9] + porcentajes[10] + porcentajes[11] + porcentajes[12] + porcentajes [13] + porcentajes[14] + porcentajes[15] + porcentajes[16] + porcentajes[17] + porcentajes[18] + porcentajes[19] + porcentajes[20] + porcentajes [21]) / 15\n",
    "\n",
    "print(f'Porcentaje nocturno: {porcentaje_nocturno}\\nPorcentaje diurno:{porcentaje_diurno}')\n",
    "\n",
    "# Ahora se convierten estos porcentajes en un data frame para su posterior representación en un gráfico\n",
    "\n",
    "valores = pd.DataFrame({'nombres': ['Noche', 'Día'],'letalidad': [float(porcentaje_nocturno), float(porcentaje_diurno)]})\n",
    "\n",
    "valores.set_index('nombres', inplace=True)\n",
    "\n",
    "# Se genera el gráfico\n",
    "\n",
    "valores.plot.bar(legend=False, xlabel='', title='Letalidad de los atques de tiburón', ylabel='Porcentaje')\n",
    "plt.show()"
   ]
  },
  {
   "cell_type": "markdown",
   "id": "4e5855ce",
   "metadata": {},
   "source": [
    "## Resultado\n",
    "\n",
    "Este análisis exploratorio demuestra que, en horario nocturno, la letalidad de los tiburones es del 33.59%, mientras que por el día este porcentaje baja hasta el 18.49%. Es por ello que, finalmente, la hipótesis de la mayor letalidad nocturna de los tiburones queda confirmada."
   ]
  },
  {
   "cell_type": "code",
   "execution_count": null,
   "id": "6c1a15ae",
   "metadata": {},
   "outputs": [],
   "source": []
  }
 ],
 "metadata": {
  "kernelspec": {
   "display_name": "Python 3 (ipykernel)",
   "language": "python",
   "name": "python3"
  },
  "language_info": {
   "codemirror_mode": {
    "name": "ipython",
    "version": 3
   },
   "file_extension": ".py",
   "mimetype": "text/x-python",
   "name": "python",
   "nbconvert_exporter": "python",
   "pygments_lexer": "ipython3",
   "version": "3.9.13"
  }
 },
 "nbformat": 4,
 "nbformat_minor": 5
}
